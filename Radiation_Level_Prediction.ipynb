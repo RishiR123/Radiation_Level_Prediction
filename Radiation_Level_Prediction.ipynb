{
 "cells": [
  {
   "cell_type": "markdown",
   "id": "aad0bec5",
   "metadata": {},
   "source": [
    "# Radiation Level Prediction Based on Environmental Factors\n",
    "This project uses synthetic data to predict radiation levels based on environmental factors like temperature, humidity, altitude, and distance from the source using regression."
   ]
  },
  {
   "cell_type": "code",
   "execution_count": null,
   "id": "3e832bb9",
   "metadata": {},
   "outputs": [],
   "source": [
    "\n",
    "import numpy as np\n",
    "import pandas as pd\n",
    "\n",
    "# Generate synthetic data\n",
    "np.random.seed(42)\n",
    "n_samples = 500\n",
    "temperature = np.random.uniform(10, 40, n_samples)  # °C\n",
    "humidity = np.random.uniform(20, 80, n_samples)     # %\n",
    "altitude = np.random.uniform(0, 2000, n_samples)    # meters\n",
    "distance = np.random.uniform(0.1, 10, n_samples)    # km\n",
    "\n",
    "# Radiation levels (simplistic formula)\n",
    "radiation = 0.5 * altitude / 100 + 5 / distance + np.random.normal(0, 0.5, n_samples)\n",
    "\n",
    "# Create DataFrame\n",
    "data = pd.DataFrame({\n",
    "    'Temperature': temperature,\n",
    "    'Humidity': humidity,\n",
    "    'Altitude': altitude,\n",
    "    'Distance': distance,\n",
    "    'Radiation_Level': radiation\n",
    "})\n",
    "\n",
    "# Display first few rows of the dataset\n",
    "data.head()\n",
    "    "
   ]
  },
  {
   "cell_type": "markdown",
   "id": "14a04063",
   "metadata": {},
   "source": [
    "## Model Training\n",
    "Train a regression model to predict radiation levels based on the generated data."
   ]
  },
  {
   "cell_type": "code",
   "execution_count": null,
   "id": "3cc1d09c",
   "metadata": {},
   "outputs": [],
   "source": [
    "\n",
    "from sklearn.model_selection import train_test_split\n",
    "from sklearn.linear_model import LinearRegression\n",
    "from sklearn.metrics import mean_squared_error, r2_score\n",
    "\n",
    "# Features and target\n",
    "X = data[['Temperature', 'Humidity', 'Altitude', 'Distance']]\n",
    "y = data['Radiation_Level']\n",
    "\n",
    "# Split data\n",
    "X_train, X_test, y_train, y_test = train_test_split(X, y, test_size=0.2, random_state=42)\n",
    "\n",
    "# Train model\n",
    "model = LinearRegression()\n",
    "model.fit(X_train, y_train)\n",
    "\n",
    "# Predictions\n",
    "y_pred = model.predict(X_test)\n",
    "\n",
    "# Evaluate\n",
    "mse = mean_squared_error(y_test, y_pred)\n",
    "r2 = r2_score(y_test, y_pred)\n",
    "print(f\"Mean Squared Error: {mse:.2f}\")\n",
    "print(f\"R² Score: {r2:.2f}\")\n",
    "    "
   ]
  },
  {
   "cell_type": "markdown",
   "id": "690cf4a8",
   "metadata": {},
   "source": [
    "## Visualization\n",
    "Plot the predicted vs actual radiation levels to evaluate the model's performance."
   ]
  },
  {
   "cell_type": "code",
   "execution_count": null,
   "id": "e716cb4f",
   "metadata": {},
   "outputs": [],
   "source": [
    "\n",
    "import matplotlib.pyplot as plt\n",
    "\n",
    "# Predicted vs Actual\n",
    "plt.scatter(y_test, y_pred, alpha=0.7)\n",
    "plt.xlabel(\"Actual Radiation Levels\")\n",
    "plt.ylabel(\"Predicted Radiation Levels\")\n",
    "plt.title(\"Actual vs Predicted\")\n",
    "plt.show()\n",
    "    "
   ]
  }
 ],
 "metadata": {
  "language_info": {
   "name": "python"
  }
 },
 "nbformat": 4,
 "nbformat_minor": 5
}
